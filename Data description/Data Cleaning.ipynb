{
 "cells": [
  {
   "cell_type": "code",
   "execution_count": 8,
   "id": "2f6d20c1",
   "metadata": {},
   "outputs": [],
   "source": [
    "import pandas as pd"
   ]
  },
  {
   "cell_type": "code",
   "execution_count": 13,
   "id": "2a503404",
   "metadata": {},
   "outputs": [],
   "source": [
    "df = pd.read_excel('Lending Club.xlsx')\n",
    "df = df.dropna()"
   ]
  },
  {
   "cell_type": "code",
   "execution_count": 14,
   "id": "0ccb71c6",
   "metadata": {},
   "outputs": [
    {
     "data": {
      "text/plain": [
       "Index(['Loan_amt', 'Loan_term', 'Income_source_verified', 'Income_verified',\n",
       "       'Income_thou', 'Debt_income', 'delinq_2yrs', 'Credit_history_length',\n",
       "       'FICO', 'open_acc', 'Derogatory_recs', 'Revol_balance', 'Revol_util',\n",
       "       'emp_length_1 year', 'emp_length_10+ years', 'emp_length_2 years',\n",
       "       'emp_length_3 years', 'emp_length_4 years', 'emp_length_5 years',\n",
       "       'emp_length_6 years', 'emp_length_7 years', 'emp_length_8 years',\n",
       "       'emp_length_9 years', 'Home_MORTGAGE', 'Home_RENT'],\n",
       "      dtype='object')"
      ]
     },
     "execution_count": 14,
     "metadata": {},
     "output_type": "execute_result"
    }
   ],
   "source": [
    "dummies = pd.get_dummies(df[['Home', 'emp_length']])\n",
    "\n",
    "y = df['Loan_rate']\n",
    "\n",
    "# Drop the column with the independent variable (Loan_rate), and columns for which we created dummy variables\n",
    "X_ = df.drop(['Loan_rate', 'Home', 'emp_length'], axis=1).astype('float64')\n",
    "\n",
    "# Define the feature set X. Reference group for emp_length is <1 year. Reference group for Home is 'own'.\n",
    "X = pd.concat([X_, dummies[['emp_length_1 year', 'emp_length_10+ years', 'emp_length_2 years', 'emp_length_3 years', 'emp_length_4 years', 'emp_length_5 years',\n",
    "'emp_length_6 years', 'emp_length_7 years', 'emp_length_8 years', 'emp_length_9 years', 'Home_MORTGAGE', 'Home_RENT']]], axis=1).astype(float)\n",
    "\n",
    "X.columns"
   ]
  },
  {
   "cell_type": "code",
   "execution_count": 15,
   "id": "55b09475",
   "metadata": {},
   "outputs": [
    {
     "data": {
      "text/plain": [
       "(14248, 25)"
      ]
     },
     "execution_count": 15,
     "metadata": {},
     "output_type": "execute_result"
    }
   ],
   "source": [
    "# 25 Features after transformation\n",
    "X.shape"
   ]
  },
  {
   "cell_type": "code",
   "execution_count": 19,
   "id": "7100592b",
   "metadata": {},
   "outputs": [],
   "source": [
    "# Save the cleaned data \n",
    "X.to_excel(\"X_cleaned.xlsx\")  \n",
    "y.to_excel(\"Y_cleaned.xlsx\")  "
   ]
  }
 ],
 "metadata": {
  "kernelspec": {
   "display_name": "Python 3 (ipykernel)",
   "language": "python",
   "name": "python3"
  },
  "language_info": {
   "codemirror_mode": {
    "name": "ipython",
    "version": 3
   },
   "file_extension": ".py",
   "mimetype": "text/x-python",
   "name": "python",
   "nbconvert_exporter": "python",
   "pygments_lexer": "ipython3",
   "version": "3.11.3"
  }
 },
 "nbformat": 4,
 "nbformat_minor": 5
}
